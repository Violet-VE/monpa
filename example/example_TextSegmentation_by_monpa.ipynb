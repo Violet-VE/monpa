{
 "cells": [
  {
   "cell_type": "markdown",
   "metadata": {},
   "source": [
    "### First time using monpa, the model file should be downloaded"
   ]
  },
  {
   "cell_type": "code",
   "execution_count": 1,
   "metadata": {},
   "outputs": [
    {
     "name": "stdout",
     "output_type": "stream",
     "text": [
      "+---------------------------------------------------------------------+\n",
      "  Welcome to MONPA: Multi-Objective NER POS Annotator for Chinese\n",
      "+---------------------------------------------------------------------+\n",
      "首次使用 monpa 將會直接下載 model 檔，約 200MB，並儲存於 monpa package 資料夾，下次就不需再下載。\n",
      "For first-time users, we will automatically download the model file (around 200MB).\n",
      "Total  file  size: 216681674 KB\n",
      "#########"
     ]
    },
    {
     "name": "stderr",
     "output_type": "stream",
     "text": [
      "08/05/2019 22:55:11 - INFO - monpa -   running on device cpu\n"
     ]
    },
    {
     "name": "stdout",
     "output_type": "stream",
     "text": [
      "#已完成 monpa model 下載，歡迎使用。Download completed.\n"
     ]
    }
   ],
   "source": [
    "import monpa"
   ]
  },
  {
   "cell_type": "markdown",
   "metadata": {},
   "source": [
    "### Check installed version"
   ]
  },
  {
   "cell_type": "code",
   "execution_count": 2,
   "metadata": {},
   "outputs": [
    {
     "name": "stdout",
     "output_type": "stream",
     "text": [
      "The installed MONPA version: 0.2.5.1\n"
     ]
    }
   ],
   "source": [
    "print(monpa.__version__)"
   ]
  },
  {
   "cell_type": "markdown",
   "metadata": {},
   "source": [
    "### Where the monpa package was installed at your local computer?"
   ]
  },
  {
   "cell_type": "code",
   "execution_count": 3,
   "metadata": {},
   "outputs": [
    {
     "data": {
      "text/plain": [
       "'/Applications/anaconda/lib/python3.6/site-packages/monpa'"
      ]
     },
     "execution_count": 3,
     "metadata": {},
     "output_type": "execute_result"
    }
   ],
   "source": [
    "import os\n",
    "\n",
    "\n",
    "os.path.dirname(os.path.abspath(monpa.__file__))"
   ]
  },
  {
   "cell_type": "markdown",
   "metadata": {},
   "source": [
    "## Example: Short text segmentation "
   ]
  },
  {
   "cell_type": "code",
   "execution_count": 4,
   "metadata": {},
   "outputs": [],
   "source": [
    "import monpa"
   ]
  },
  {
   "cell_type": "code",
   "execution_count": 5,
   "metadata": {},
   "outputs": [],
   "source": [
    "sentence_short = \"蔡英文總統今天受邀參加台北市政府所舉辦的陽明山馬拉松比賽。\""
   ]
  },
  {
   "cell_type": "code",
   "execution_count": 6,
   "metadata": {},
   "outputs": [
    {
     "name": "stdout",
     "output_type": "stream",
     "text": [
      "蔡英文\n",
      "總統\n",
      "今天\n",
      "受\n",
      "邀\n",
      "參加\n",
      "台北市政府\n",
      "所\n",
      "舉辦\n",
      "的\n",
      "陽明山\n",
      "馬拉松\n",
      "比賽\n",
      "。\n"
     ]
    }
   ],
   "source": [
    "# cut function\n",
    "\n",
    "result_cut_short = monpa.cut(sentence_short)\n",
    "for t in result_cut_short:\n",
    "  print(t)"
   ]
  },
  {
   "cell_type": "code",
   "execution_count": 7,
   "metadata": {},
   "outputs": [
    {
     "name": "stdout",
     "output_type": "stream",
     "text": [
      "['蔡英文', 'PER']\n",
      "['總統', 'Na']\n",
      "['今天', 'Nd']\n",
      "['受', 'P']\n",
      "['邀', 'VF']\n",
      "['參加', 'VC']\n",
      "['台北市政府', 'ORG']\n",
      "['所', 'D']\n",
      "['舉辦', 'VC']\n",
      "['的', 'DE']\n",
      "['陽明山', 'LOC']\n",
      "['馬拉松', 'Na']\n",
      "['比賽', 'Na']\n",
      "['。', 'PERIODCATEGORY']\n"
     ]
    }
   ],
   "source": [
    "# pseg function\n",
    "\n",
    "result_pseg_short = monpa.pseg(sentence_short)\n",
    "for t in result_pseg_short:\n",
    "  print(t)"
   ]
  },
  {
   "cell_type": "code",
   "execution_count": 8,
   "metadata": {},
   "outputs": [],
   "source": [
    "# load user define dictionary function\n",
    "\n",
    "monpa.load_userdict(\"./userdict.txt\")\n"
   ]
  },
  {
   "cell_type": "code",
   "execution_count": 9,
   "metadata": {},
   "outputs": [
    {
     "name": "stdout",
     "output_type": "stream",
     "text": [
      "蔡英文總統\n",
      "今天\n",
      "受邀\n",
      "參加\n",
      "台北市政府\n",
      "所\n",
      "舉辦\n",
      "的\n",
      "陽明山\n",
      "馬拉松\n",
      "比賽\n",
      "。\n"
     ]
    }
   ],
   "source": [
    "# cut function\n",
    "\n",
    "result_cut_userdict_short = monpa.cut(sentence_short)\n",
    "for t in result_cut_userdict_short:\n",
    "  print(t)"
   ]
  },
  {
   "cell_type": "code",
   "execution_count": 10,
   "metadata": {},
   "outputs": [
    {
     "name": "stdout",
     "output_type": "stream",
     "text": [
      "['蔡英文總統', 'PER']\n",
      "['今天', 'Nd']\n",
      "['受邀', 'V']\n",
      "['參加', 'VC']\n",
      "['台北市政府', 'ORG']\n",
      "['所', 'D']\n",
      "['舉辦', 'VC']\n",
      "['的', 'DE']\n",
      "['陽明山', 'LOC']\n",
      "['馬拉松', 'Na']\n",
      "['比賽', 'Na']\n",
      "['。', 'PERIODCATEGORY']\n"
     ]
    }
   ],
   "source": [
    "# pseg function\n",
    "\n",
    "result_pseg_userdict_short = monpa.pseg(sentence_short)\n",
    "for t in result_pseg_userdict_short:\n",
    "  print(t)"
   ]
  },
  {
   "cell_type": "markdown",
   "metadata": {},
   "source": [
    "## Example: Long text segmentation "
   ]
  },
  {
   "cell_type": "code",
   "execution_count": 11,
   "metadata": {},
   "outputs": [],
   "source": [
    "sentence_long = '''城市就是子宮，它們確實是。一個人該先做什麼才能成為真正的人？他必須被生下來，離開子宮，而且離開之後，他就不能再回子宮裡了。\n",
    "貝萊已經離開過城市，他不能再回去了。這裡已不再是她的城市，鋼穴成了異鄉，這是必然結果，其它人也會面臨相同情形，而地球將會重生，開始往外太空發展。'''\n"
   ]
  },
  {
   "cell_type": "markdown",
   "metadata": {},
   "source": [
    "### cut the long sentence directly, you can find some words have been abandoned"
   ]
  },
  {
   "cell_type": "code",
   "execution_count": 12,
   "metadata": {},
   "outputs": [
    {
     "name": "stdout",
     "output_type": "stream",
     "text": [
      "['城市', '就', '是', '子宮', '，', '它們', '確實', '是', '。', '一', '個', '人', '該', '先', '做', '什麼', '才', '能', '成為', '真正', '的', '人', '？', '他', '必須', '被', '生下來', '，', '離開', '子宮', '，', '而且', '離開', '之後', '，', '他', '就', '不能', '再', '回', '子宮', '裡', '了', '。', '貝萊', '已經', '離開', '過', '城市', '，', '他', '不能', '再', '回', '去', '了', '。', '這', '裡', '已', '不再', '是', '她', '的', '城市', '，', '鋼穴', '成', '了', '異鄉', '，', '這', '是', '必然', '結果', '，', '其它', '人', '也', '會', '面臨', '相同', '情形', '，', '而', '地球', '將', '會', '重生', '，', '開始', '往', '外']\n"
     ]
    }
   ],
   "source": [
    "result_cut_long = monpa.cut(sentence_long)\n",
    "print(result_cut_long)"
   ]
  },
  {
   "cell_type": "markdown",
   "metadata": {},
   "source": [
    "### suggest to split a long sentence to several short text for segmentation"
   ]
  },
  {
   "cell_type": "code",
   "execution_count": 13,
   "metadata": {},
   "outputs": [
    {
     "name": "stdout",
     "output_type": "stream",
     "text": [
      "['城市', '就', '是', '子宮', '，', '它們', '確實', '是', '。', '一', '個', '人', '該', '先', '做', '什麼', '才', '能', '成為', '真正', '的', '人', '？', '他', '必須', '被', '生下來', '，', '離開', '子宮', '，', '而且', '離開', '之後', '，', '他', '就', '不能', '再', '回', '子宮', '裡', '了', '。', '貝萊', '已經', '離開', '過', '城市', '，', '他', '不能', '再', '回去', '了', '。', '這裡', '已', '不再', '是', '她', '的', '城市', '，', '鋼穴', '成', '了', '異鄉', '，', '這', '是', '必然', '結果', '，', '其它', '人', '也', '會', '面臨', '相同', '情形', '，', '而', '地球', '將', '會', '重生', '，', '開始', '往', '外太空', '發展', '。']\n"
     ]
    }
   ],
   "source": [
    "seg = []\n",
    "\n",
    "for item in sentence_long.split(\"，\"):\n",
    "  if item != \"\\n\": seg.extend(monpa.cut(str(item+\"，\")))\n",
    "\n",
    "print(seg[:-1])\n"
   ]
  },
  {
   "cell_type": "markdown",
   "metadata": {},
   "source": [
    "### in case, you can define an function for easy your work."
   ]
  },
  {
   "cell_type": "code",
   "execution_count": 14,
   "metadata": {},
   "outputs": [],
   "source": [
    "def LongCut(long_sentence, split_char):\n",
    "  seg = []\n",
    "  for item in long_sentence.split(split_char):\n",
    "    if item != \"\\n\": seg.extend(monpa.cut(str(item+split_char)))\n",
    "  return seg[:-1]\n",
    "\n",
    "def LongPseg(long_sentence, split_char):\n",
    "  seg = []\n",
    "  for item in long_sentence.split(split_char):\n",
    "    if item != \"\\n\": seg.extend(monpa.pseg(item+split_char))\n",
    "  return seg[:-1]"
   ]
  },
  {
   "cell_type": "code",
   "execution_count": 15,
   "metadata": {},
   "outputs": [
    {
     "name": "stdout",
     "output_type": "stream",
     "text": [
      "['城市', '就', '是', '子宮', '，', '它們', '確實', '是', '。', '一', '個', '人', '該', '先', '做', '什麼', '才', '能', '成為', '真正', '的', '人', '？', '他', '必須', '被', '生下來', '，', '離開', '子宮', '，', '而且', '離開', '之後', '，', '他', '就', '不能', '再', '回', '子宮', '裡', '了', '。', '貝萊', '已經', '離開', '過', '城市', '，', '他', '不能', '再', '回去', '了', '。', '這裡', '已', '不再', '是', '她', '的', '城市', '，', '鋼穴', '成', '了', '異鄉', '，', '這', '是', '必然', '結果', '，', '其它', '人', '也', '會', '面臨', '相同', '情形', '，', '而', '地球', '將', '會', '重生', '，', '開始', '往', '外太空', '發展', '。']\n"
     ]
    }
   ],
   "source": [
    "result_cut_long2short = LongCut(sentence_long, \"，\")\n",
    "print(result_cut_long2short)"
   ]
  },
  {
   "cell_type": "code",
   "execution_count": 16,
   "metadata": {},
   "outputs": [
    {
     "name": "stdout",
     "output_type": "stream",
     "text": [
      "[['城市', 'Na'], ['就', 'D'], ['是', 'SHI'], ['子宮', 'Na'], ['，', 'COMMACATEGORY'], ['它們', 'Nh'], ['確實', 'D'], ['是', 'SHI'], ['。', 'PERIODCATEGORY'], ['一', 'Neu'], ['個', 'Nf'], ['人', 'Na'], ['該', 'D'], ['先', 'D'], ['做', 'VC'], ['什麼', 'Nep'], ['才', 'Da'], ['能', 'D'], ['成為', 'VG'], ['真正', 'A'], ['的', 'DE'], ['人', 'Na'], ['？', 'QUESTIONCATEGORY'], ['他', 'Nh'], ['必須', 'D'], ['被', 'P'], ['生下來', 'VB'], ['，', 'COMMACATEGORY'], ['離開', 'VC'], ['子宮', 'Na'], ['，', 'COMMACATEGORY'], ['而且', 'Cbb'], ['離開', 'VC'], ['之後', 'Ng'], ['，', 'COMMACATEGORY'], ['他', 'Nh'], ['就', 'D'], ['不能', 'D'], ['再', 'D'], ['回', 'VCL'], ['子宮', 'Nc'], ['裡', 'Ncd'], ['了', 'T'], ['。', 'PERIODCATEGORY'], ['貝萊', 'PER'], ['已經', 'D'], ['離開', 'VC'], ['過', 'Di'], ['城市', 'Na'], ['，', 'COMMACATEGORY'], ['他', 'Nh'], ['不能', 'D'], ['再', 'D'], ['回去', 'VA'], ['了', 'Di'], ['。', 'PERIODCATEGORY'], ['這裡', 'Ncd'], ['已', 'D'], ['不再', 'D'], ['是', 'SHI'], ['她', 'Nh'], ['的', 'DE'], ['城市', 'Na'], ['，', 'COMMACATEGORY'], ['鋼穴', 'Na'], ['成', 'VG'], ['了', 'Di'], ['異鄉', 'Nc'], ['，', 'COMMACATEGORY'], ['這', 'Nep'], ['是', 'SHI'], ['必然', 'Na'], ['結果', 'Na'], ['，', 'COMMACATEGORY'], ['其它', 'Neqa'], ['人', 'Na'], ['也', 'D'], ['會', 'D'], ['面臨', 'VK'], ['相同', 'VH'], ['情形', 'Na'], ['，', 'COMMACATEGORY'], ['而', 'Cbb'], ['地球', 'Na'], ['將', 'D'], ['會', 'D'], ['重生', 'VH'], ['，', 'COMMACATEGORY'], ['開始', 'VL'], ['往', 'P'], ['外太空', 'Nc'], ['發展', 'Nv'], ['。', 'PERIODCATEGORY']]\n"
     ]
    }
   ],
   "source": [
    "result_pseg_long2short = LongPseg(sentence_long, \"，\")\n",
    "print(result_pseg_long2short)"
   ]
  }
 ],
 "metadata": {
  "kernelspec": {
   "display_name": "Python 3",
   "language": "python",
   "name": "python3"
  },
  "language_info": {
   "codemirror_mode": {
    "name": "ipython",
    "version": 3
   },
   "file_extension": ".py",
   "mimetype": "text/x-python",
   "name": "python",
   "nbconvert_exporter": "python",
   "pygments_lexer": "ipython3",
   "version": "3.6.8"
  }
 },
 "nbformat": 4,
 "nbformat_minor": 2
}
